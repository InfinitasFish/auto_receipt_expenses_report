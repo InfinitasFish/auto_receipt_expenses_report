{
  "nbformat": 4,
  "nbformat_minor": 0,
  "metadata": {
    "colab": {
      "provenance": [],
      "gpuType": "T4"
    },
    "kernelspec": {
      "name": "python3",
      "display_name": "Python 3"
    },
    "language_info": {
      "name": "python"
    },
    "accelerator": "GPU"
  },
  "cells": [
    {
      "cell_type": "markdown",
      "source": [],
      "metadata": {
        "id": "nA83-BsoQw2q"
      }
    },
    {
      "cell_type": "markdown",
      "source": [
        "Импорт библиотек"
      ],
      "metadata": {
        "id": "CMW6JUQYQy35"
      }
    },
    {
      "cell_type": "code",
      "execution_count": null,
      "metadata": {
        "id": "8QNgP7wZQwWG",
        "colab": {
          "base_uri": "https://localhost:8080/"
        },
        "outputId": "a64c2bc7-c897-4cd3-dffa-554e410a13ed"
      },
      "outputs": [
        {
          "output_type": "stream",
          "name": "stdout",
          "text": [
            "Requirement already satisfied: torch in /usr/local/lib/python3.10/dist-packages (2.1.0+cu118)\n",
            "Requirement already satisfied: torchvision in /usr/local/lib/python3.10/dist-packages (0.16.0+cu118)\n",
            "Requirement already satisfied: filelock in /usr/local/lib/python3.10/dist-packages (from torch) (3.13.1)\n",
            "Requirement already satisfied: typing-extensions in /usr/local/lib/python3.10/dist-packages (from torch) (4.5.0)\n",
            "Requirement already satisfied: sympy in /usr/local/lib/python3.10/dist-packages (from torch) (1.12)\n",
            "Requirement already satisfied: networkx in /usr/local/lib/python3.10/dist-packages (from torch) (3.2.1)\n",
            "Requirement already satisfied: jinja2 in /usr/local/lib/python3.10/dist-packages (from torch) (3.1.2)\n",
            "Requirement already satisfied: fsspec in /usr/local/lib/python3.10/dist-packages (from torch) (2023.6.0)\n",
            "Requirement already satisfied: triton==2.1.0 in /usr/local/lib/python3.10/dist-packages (from torch) (2.1.0)\n",
            "Requirement already satisfied: numpy in /usr/local/lib/python3.10/dist-packages (from torchvision) (1.23.5)\n",
            "Requirement already satisfied: requests in /usr/local/lib/python3.10/dist-packages (from torchvision) (2.31.0)\n",
            "Requirement already satisfied: pillow!=8.3.*,>=5.3.0 in /usr/local/lib/python3.10/dist-packages (from torchvision) (9.4.0)\n",
            "Requirement already satisfied: MarkupSafe>=2.0 in /usr/local/lib/python3.10/dist-packages (from jinja2->torch) (2.1.3)\n",
            "Requirement already satisfied: charset-normalizer<4,>=2 in /usr/local/lib/python3.10/dist-packages (from requests->torchvision) (3.3.2)\n",
            "Requirement already satisfied: idna<4,>=2.5 in /usr/local/lib/python3.10/dist-packages (from requests->torchvision) (3.4)\n",
            "Requirement already satisfied: urllib3<3,>=1.21.1 in /usr/local/lib/python3.10/dist-packages (from requests->torchvision) (2.0.7)\n",
            "Requirement already satisfied: certifi>=2017.4.17 in /usr/local/lib/python3.10/dist-packages (from requests->torchvision) (2023.7.22)\n",
            "Requirement already satisfied: mpmath>=0.19 in /usr/local/lib/python3.10/dist-packages (from sympy->torch) (1.3.0)\n",
            "Collecting easyocr\n",
            "  Downloading easyocr-1.7.1-py3-none-any.whl (2.9 MB)\n",
            "\u001b[2K     \u001b[90m━━━━━━━━━━━━━━━━━━━━━━━━━━━━━━━━━━━━━━━━\u001b[0m \u001b[32m2.9/2.9 MB\u001b[0m \u001b[31m21.7 MB/s\u001b[0m eta \u001b[36m0:00:00\u001b[0m\n",
            "\u001b[?25hRequirement already satisfied: torch in /usr/local/lib/python3.10/dist-packages (from easyocr) (2.1.0+cu118)\n",
            "Requirement already satisfied: torchvision>=0.5 in /usr/local/lib/python3.10/dist-packages (from easyocr) (0.16.0+cu118)\n",
            "Requirement already satisfied: opencv-python-headless in /usr/local/lib/python3.10/dist-packages (from easyocr) (4.8.1.78)\n",
            "Requirement already satisfied: scipy in /usr/local/lib/python3.10/dist-packages (from easyocr) (1.11.3)\n",
            "Requirement already satisfied: numpy in /usr/local/lib/python3.10/dist-packages (from easyocr) (1.23.5)\n",
            "Requirement already satisfied: Pillow in /usr/local/lib/python3.10/dist-packages (from easyocr) (9.4.0)\n",
            "Requirement already satisfied: scikit-image in /usr/local/lib/python3.10/dist-packages (from easyocr) (0.19.3)\n",
            "Collecting python-bidi (from easyocr)\n",
            "  Downloading python_bidi-0.4.2-py2.py3-none-any.whl (30 kB)\n",
            "Requirement already satisfied: PyYAML in /usr/local/lib/python3.10/dist-packages (from easyocr) (6.0.1)\n",
            "Requirement already satisfied: Shapely in /usr/local/lib/python3.10/dist-packages (from easyocr) (2.0.2)\n",
            "Collecting pyclipper (from easyocr)\n",
            "  Downloading pyclipper-1.3.0.post5-cp310-cp310-manylinux_2_12_x86_64.manylinux2010_x86_64.whl (908 kB)\n",
            "\u001b[2K     \u001b[90m━━━━━━━━━━━━━━━━━━━━━━━━━━━━━━━━━━━━━━━━\u001b[0m \u001b[32m908.3/908.3 kB\u001b[0m \u001b[31m54.0 MB/s\u001b[0m eta \u001b[36m0:00:00\u001b[0m\n",
            "\u001b[?25hCollecting ninja (from easyocr)\n",
            "  Downloading ninja-1.11.1.1-py2.py3-none-manylinux1_x86_64.manylinux_2_5_x86_64.whl (307 kB)\n",
            "\u001b[2K     \u001b[90m━━━━━━━━━━━━━━━━━━━━━━━━━━━━━━━━━━━━━━━━\u001b[0m \u001b[32m307.2/307.2 kB\u001b[0m \u001b[31m16.2 MB/s\u001b[0m eta \u001b[36m0:00:00\u001b[0m\n",
            "\u001b[?25hRequirement already satisfied: requests in /usr/local/lib/python3.10/dist-packages (from torchvision>=0.5->easyocr) (2.31.0)\n",
            "Requirement already satisfied: filelock in /usr/local/lib/python3.10/dist-packages (from torch->easyocr) (3.13.1)\n",
            "Requirement already satisfied: typing-extensions in /usr/local/lib/python3.10/dist-packages (from torch->easyocr) (4.5.0)\n",
            "Requirement already satisfied: sympy in /usr/local/lib/python3.10/dist-packages (from torch->easyocr) (1.12)\n",
            "Requirement already satisfied: networkx in /usr/local/lib/python3.10/dist-packages (from torch->easyocr) (3.2.1)\n",
            "Requirement already satisfied: jinja2 in /usr/local/lib/python3.10/dist-packages (from torch->easyocr) (3.1.2)\n",
            "Requirement already satisfied: fsspec in /usr/local/lib/python3.10/dist-packages (from torch->easyocr) (2023.6.0)\n",
            "Requirement already satisfied: triton==2.1.0 in /usr/local/lib/python3.10/dist-packages (from torch->easyocr) (2.1.0)\n",
            "Requirement already satisfied: six in /usr/local/lib/python3.10/dist-packages (from python-bidi->easyocr) (1.16.0)\n",
            "Requirement already satisfied: imageio>=2.4.1 in /usr/local/lib/python3.10/dist-packages (from scikit-image->easyocr) (2.31.6)\n",
            "Requirement already satisfied: tifffile>=2019.7.26 in /usr/local/lib/python3.10/dist-packages (from scikit-image->easyocr) (2023.9.26)\n",
            "Requirement already satisfied: PyWavelets>=1.1.1 in /usr/local/lib/python3.10/dist-packages (from scikit-image->easyocr) (1.4.1)\n",
            "Requirement already satisfied: packaging>=20.0 in /usr/local/lib/python3.10/dist-packages (from scikit-image->easyocr) (23.2)\n",
            "Requirement already satisfied: MarkupSafe>=2.0 in /usr/local/lib/python3.10/dist-packages (from jinja2->torch->easyocr) (2.1.3)\n",
            "Requirement already satisfied: charset-normalizer<4,>=2 in /usr/local/lib/python3.10/dist-packages (from requests->torchvision>=0.5->easyocr) (3.3.2)\n",
            "Requirement already satisfied: idna<4,>=2.5 in /usr/local/lib/python3.10/dist-packages (from requests->torchvision>=0.5->easyocr) (3.4)\n",
            "Requirement already satisfied: urllib3<3,>=1.21.1 in /usr/local/lib/python3.10/dist-packages (from requests->torchvision>=0.5->easyocr) (2.0.7)\n",
            "Requirement already satisfied: certifi>=2017.4.17 in /usr/local/lib/python3.10/dist-packages (from requests->torchvision>=0.5->easyocr) (2023.7.22)\n",
            "Requirement already satisfied: mpmath>=0.19 in /usr/local/lib/python3.10/dist-packages (from sympy->torch->easyocr) (1.3.0)\n",
            "Installing collected packages: pyclipper, ninja, python-bidi, easyocr\n",
            "Successfully installed easyocr-1.7.1 ninja-1.11.1.1 pyclipper-1.3.0.post5 python-bidi-0.4.2\n"
          ]
        }
      ],
      "source": [
        "!pip install torch torchvision\n",
        "!pip install easyocr\n",
        "import easyocr\n",
        "import PIL\n",
        "import matplotlib.pyplot as plt\n",
        "%matplotlib inline\n",
        "import numpy as np\n",
        "from sklearn.cluster import KMeans\n",
        "from sklearn.cluster import DBSCAN\n",
        "import matplotlib.lines as mlines\n",
        "import matplotlib.transforms as mtransforms\n",
        "from PIL import Image\n",
        "import cv2"
      ]
    },
    {
      "cell_type": "code",
      "source": [
        "reader = easyocr.Reader(['en','ru'], gpu = True)"
      ],
      "metadata": {
        "id": "RKu_RFavNOW1"
      },
      "execution_count": null,
      "outputs": []
    },
    {
      "cell_type": "markdown",
      "source": [
        "Функция"
      ],
      "metadata": {
        "id": "wcF7hoeeRGd5"
      }
    },
    {
      "cell_type": "code",
      "source": [
        "def Check_separator(path):\n",
        "  bounds = reader.readtext(path)\n",
        "  im = Image.open(path)\n",
        "  dots_coner, dots_sered = [],[]\n",
        "  for bound in bounds: #сохранение двух точек бокса\n",
        "    p0, p1, p2, p3 = bound[0]\n",
        "    dots_coner.append(p0)\n",
        "    dots_coner.append(p1)\n",
        "    dot = [(p0[0] + p2[0])/2, (p0[1] + p2[1])/2]\n",
        "    dots_sered.append(dot)\n",
        "  k_ans, projection_dot = 0, []\n",
        "  for j in dots_coner: #прорекция на прямую\n",
        "    y = (k_ans * j[0] - k_ans*k_ans*j[1])/(1 - k_ans*k_ans)\n",
        "    if k_ans == 0:\n",
        "      x = j[0]\n",
        "    else:\n",
        "      x = y/k_ans\n",
        "    dot = [x, y]\n",
        "    projection_dot.append(dot)\n",
        "  x, g, right, left, perep = [], 0, [], [], [] + [0]\n",
        "  for i in projection_dot:\n",
        "    x = x + [i[0]]\n",
        "  x.sort()\n",
        "  l, r = x[len(x)-1], l/len(x)\n",
        "  for i in range(0, l, 15): #подсчет количества точек возле прямой\n",
        "    rcount = 0\n",
        "    lcount = 0\n",
        "    for j in x:\n",
        "      if (j < i+15) and (j >= i - 15):\n",
        "        lcount = lcount + 1\n",
        "    left = left + [lcount]\n",
        "  for i in range(len(left)): #нахождение самых больших скоплений точек\n",
        "    if left[i] >= 17:\n",
        "      perep = perep + [i]\n",
        "  X, count. gr, dotss = np.array(dots_coner), 0, [], x\n",
        "  x, y = im.size\n",
        "  perep = perep + [x/15]\n",
        "  for i in range(len(perep)): #фильтрация\n",
        "    if i != 0:\n",
        "      if perep[i] - perep[i - 1] < 5:\n",
        "        count = count + 1\n",
        "      else:\n",
        "        gr = gr +  [(perep[i  - 1] + perep[i - 1 - count])/2]\n",
        "        count = 0\n",
        "    if i == len(perep) - 1:\n",
        "      gr = gr + [(perep[i] + perep[i - count])/2]\n",
        "  corp_imgs = []\n",
        "  for i in range(1, len(gr)):  #обрезка изображений\n",
        "    corp_imgs = corp_imgs + [im.crop((gr[i-1]*15, 0, gr[i]*15, y))]\n",
        "  return corp_imgs, gr"
      ],
      "metadata": {
        "id": "rgAeR5u0RKTQ"
      },
      "execution_count": null,
      "outputs": []
    },
    {
      "cell_type": "code",
      "source": [
        "def Check_separator_CV(path):\n",
        "  bounds = reader.readtext(path)\n",
        "  im = cv2.imread(path)\n",
        "\n",
        "  dots_coner = []\n",
        "  dots_sered = []\n",
        "\n",
        "  for bound in bounds: #сохранение двух точек бокса\n",
        "    p0, p1, p2, p3 = bound[0]\n",
        "    dots_coner.append(p0)\n",
        "    dots_coner.append(p1)\n",
        "\n",
        "\n",
        "  k_ans = 0\n",
        "  projection_dot = []\n",
        "\n",
        "  for j in dots_coner: #прорекция на прямую\n",
        "    y = (k_ans * j[0] - k_ans*k_ans*j[1])/(1 - k_ans*k_ans)\n",
        "    if k_ans == 0:\n",
        "      x = j[0]\n",
        "    else:\n",
        "      x = y/k_ans\n",
        "    dot = [x, y]\n",
        "    projection_dot.append(dot)\n",
        "\n",
        "  x = []\n",
        "  g = 0\n",
        "  right = []\n",
        "  left = []\n",
        "  perep = [] + [0]\n",
        "\n",
        "  for i in projection_dot:\n",
        "    x = x + [i[0]]\n",
        "\n",
        "  x.sort()\n",
        "\n",
        "  l = x[len(x)-1]\n",
        "  r = l/len(x)\n",
        "\n",
        "  for i in range(0, l, 15): #подсчет количества точек возле прямой\n",
        "    lcount = 0\n",
        "    for j in x:\n",
        "      if (j < i+15) and (j >= i - 15):\n",
        "        lcount = lcount + 1\n",
        "    left = left + [lcount]\n",
        "\n",
        "  for i in range(len(left)): #нахождение самых больших скоплений точек\n",
        "    if left[i] >= 17:\n",
        "      perep = perep + [i]\n",
        "\n",
        "  X = np.array(dots_coner)\n",
        "  count = 0\n",
        "  gr = []\n",
        "\n",
        "  x, y = im.shape[1], im.shape[0]\n",
        "  perep = perep + [x/15]\n",
        "  for i in range(len(perep)): #фильтрация\n",
        "    if i != 0:\n",
        "      if perep[i] - perep[i - 1] < 5:\n",
        "        count = count + 1\n",
        "      else:\n",
        "        gr = gr +  [(perep[i  - 1] + perep[i - 1 - count])/2]\n",
        "        count = 0\n",
        "    if i == len(perep) - 1:\n",
        "      gr = gr + [(perep[i] + perep[i - count])/2]\n",
        "\n",
        "  corp_imgs = []\n",
        "  for i in range(1, len(gr)): #обрезка\n",
        "    corp_imgs.append(im[0:y, int(gr[i-1]*15):int(gr[i]*15)])\n",
        "  return corp_imgs"
      ],
      "metadata": {
        "id": "_jeSOnUw0_YR"
      },
      "execution_count": null,
      "outputs": []
    },
    {
      "cell_type": "code",
      "source": [
        "bounds = reader.readtext('/content/1615325560_57-p-roza-chek-meit-obraz-60.jpg')"
      ],
      "metadata": {
        "colab": {
          "base_uri": "https://localhost:8080/",
          "height": 335
        },
        "id": "cgO4euZyuLEp",
        "outputId": "45d9d0ec-6fb7-4754-e12b-aba14f87b335"
      },
      "execution_count": null,
      "outputs": [
        {
          "output_type": "error",
          "ename": "error",
          "evalue": "ignored",
          "traceback": [
            "\u001b[0;31m---------------------------------------------------------------------------\u001b[0m",
            "\u001b[0;31merror\u001b[0m                                     Traceback (most recent call last)",
            "\u001b[0;32m<ipython-input-14-adb0c03ceba0>\u001b[0m in \u001b[0;36m<cell line: 1>\u001b[0;34m()\u001b[0m\n\u001b[0;32m----> 1\u001b[0;31m \u001b[0mbounds\u001b[0m \u001b[0;34m=\u001b[0m \u001b[0mreader\u001b[0m\u001b[0;34m.\u001b[0m\u001b[0mreadtext\u001b[0m\u001b[0;34m(\u001b[0m\u001b[0;34m'/content/1615325560_57-p-roza-chek-meit-obraz-60.jpg'\u001b[0m\u001b[0;34m)\u001b[0m\u001b[0;34m\u001b[0m\u001b[0;34m\u001b[0m\u001b[0m\n\u001b[0m",
            "\u001b[0;32m/usr/local/lib/python3.10/dist-packages/easyocr/easyocr.py\u001b[0m in \u001b[0;36mreadtext\u001b[0;34m(self, image, decoder, beamWidth, batch_size, workers, allowlist, blocklist, detail, rotation_info, paragraph, min_size, contrast_ths, adjust_contrast, filter_ths, text_threshold, low_text, link_threshold, canvas_size, mag_ratio, slope_ths, ycenter_ths, height_ths, width_ths, y_ths, x_ths, add_margin, threshold, bbox_min_score, bbox_min_size, max_candidates, output_format)\u001b[0m\n\u001b[1;32m    466\u001b[0m         \u001b[0;31m# get the 1st result from hor & free list as self.detect returns a list of depth 3\u001b[0m\u001b[0;34m\u001b[0m\u001b[0;34m\u001b[0m\u001b[0m\n\u001b[1;32m    467\u001b[0m         \u001b[0mhorizontal_list\u001b[0m\u001b[0;34m,\u001b[0m \u001b[0mfree_list\u001b[0m \u001b[0;34m=\u001b[0m \u001b[0mhorizontal_list\u001b[0m\u001b[0;34m[\u001b[0m\u001b[0;36m0\u001b[0m\u001b[0;34m]\u001b[0m\u001b[0;34m,\u001b[0m \u001b[0mfree_list\u001b[0m\u001b[0;34m[\u001b[0m\u001b[0;36m0\u001b[0m\u001b[0;34m]\u001b[0m\u001b[0;34m\u001b[0m\u001b[0;34m\u001b[0m\u001b[0m\n\u001b[0;32m--> 468\u001b[0;31m         result = self.recognize(img_cv_grey, horizontal_list, free_list,\\\n\u001b[0m\u001b[1;32m    469\u001b[0m                                 \u001b[0mdecoder\u001b[0m\u001b[0;34m,\u001b[0m \u001b[0mbeamWidth\u001b[0m\u001b[0;34m,\u001b[0m \u001b[0mbatch_size\u001b[0m\u001b[0;34m,\u001b[0m\u001b[0;31m\\\u001b[0m\u001b[0;34m\u001b[0m\u001b[0;34m\u001b[0m\u001b[0m\n\u001b[1;32m    470\u001b[0m                                 \u001b[0mworkers\u001b[0m\u001b[0;34m,\u001b[0m \u001b[0mallowlist\u001b[0m\u001b[0;34m,\u001b[0m \u001b[0mblocklist\u001b[0m\u001b[0;34m,\u001b[0m \u001b[0mdetail\u001b[0m\u001b[0;34m,\u001b[0m \u001b[0mrotation_info\u001b[0m\u001b[0;34m,\u001b[0m\u001b[0;31m\\\u001b[0m\u001b[0;34m\u001b[0m\u001b[0;34m\u001b[0m\u001b[0m\n",
            "\u001b[0;32m/usr/local/lib/python3.10/dist-packages/easyocr/easyocr.py\u001b[0m in \u001b[0;36mrecognize\u001b[0;34m(self, img_cv_grey, horizontal_list, free_list, decoder, beamWidth, batch_size, workers, allowlist, blocklist, detail, rotation_info, paragraph, contrast_ths, adjust_contrast, filter_ths, y_ths, x_ths, reformat, output_format)\u001b[0m\n\u001b[1;32m    381\u001b[0m                 \u001b[0mh_list\u001b[0m \u001b[0;34m=\u001b[0m \u001b[0;34m[\u001b[0m\u001b[0mbbox\u001b[0m\u001b[0;34m]\u001b[0m\u001b[0;34m\u001b[0m\u001b[0;34m\u001b[0m\u001b[0m\n\u001b[1;32m    382\u001b[0m                 \u001b[0mf_list\u001b[0m \u001b[0;34m=\u001b[0m \u001b[0;34m[\u001b[0m\u001b[0;34m]\u001b[0m\u001b[0;34m\u001b[0m\u001b[0;34m\u001b[0m\u001b[0m\n\u001b[0;32m--> 383\u001b[0;31m                 \u001b[0mimage_list\u001b[0m\u001b[0;34m,\u001b[0m \u001b[0mmax_width\u001b[0m \u001b[0;34m=\u001b[0m \u001b[0mget_image_list\u001b[0m\u001b[0;34m(\u001b[0m\u001b[0mh_list\u001b[0m\u001b[0;34m,\u001b[0m \u001b[0mf_list\u001b[0m\u001b[0;34m,\u001b[0m \u001b[0mimg_cv_grey\u001b[0m\u001b[0;34m,\u001b[0m \u001b[0mmodel_height\u001b[0m \u001b[0;34m=\u001b[0m \u001b[0mimgH\u001b[0m\u001b[0;34m)\u001b[0m\u001b[0;34m\u001b[0m\u001b[0;34m\u001b[0m\u001b[0m\n\u001b[0m\u001b[1;32m    384\u001b[0m                 result0 = get_text(self.character, imgH, int(max_width), self.recognizer, self.converter, image_list,\\\n\u001b[1;32m    385\u001b[0m                               \u001b[0mignore_char\u001b[0m\u001b[0;34m,\u001b[0m \u001b[0mdecoder\u001b[0m\u001b[0;34m,\u001b[0m \u001b[0mbeamWidth\u001b[0m\u001b[0;34m,\u001b[0m \u001b[0mbatch_size\u001b[0m\u001b[0;34m,\u001b[0m \u001b[0mcontrast_ths\u001b[0m\u001b[0;34m,\u001b[0m \u001b[0madjust_contrast\u001b[0m\u001b[0;34m,\u001b[0m \u001b[0mfilter_ths\u001b[0m\u001b[0;34m,\u001b[0m\u001b[0;31m\\\u001b[0m\u001b[0;34m\u001b[0m\u001b[0;34m\u001b[0m\u001b[0m\n",
            "\u001b[0;32m/usr/local/lib/python3.10/dist-packages/easyocr/utils.py\u001b[0m in \u001b[0;36mget_image_list\u001b[0;34m(horizontal_list, free_list, img, model_height, sort_output)\u001b[0m\n\u001b[1;32m    611\u001b[0m             \u001b[0;32mpass\u001b[0m\u001b[0;34m\u001b[0m\u001b[0;34m\u001b[0m\u001b[0m\n\u001b[1;32m    612\u001b[0m         \u001b[0;32melse\u001b[0m\u001b[0;34m:\u001b[0m\u001b[0;34m\u001b[0m\u001b[0;34m\u001b[0m\u001b[0m\n\u001b[0;32m--> 613\u001b[0;31m             \u001b[0mcrop_img\u001b[0m\u001b[0;34m,\u001b[0m\u001b[0mratio\u001b[0m \u001b[0;34m=\u001b[0m \u001b[0mcompute_ratio_and_resize\u001b[0m\u001b[0;34m(\u001b[0m\u001b[0mcrop_img\u001b[0m\u001b[0;34m,\u001b[0m\u001b[0mwidth\u001b[0m\u001b[0;34m,\u001b[0m\u001b[0mheight\u001b[0m\u001b[0;34m,\u001b[0m\u001b[0mmodel_height\u001b[0m\u001b[0;34m)\u001b[0m\u001b[0;34m\u001b[0m\u001b[0;34m\u001b[0m\u001b[0m\n\u001b[0m\u001b[1;32m    614\u001b[0m             \u001b[0mimage_list\u001b[0m\u001b[0;34m.\u001b[0m\u001b[0mappend\u001b[0m\u001b[0;34m(\u001b[0m \u001b[0;34m(\u001b[0m \u001b[0;34m[\u001b[0m\u001b[0;34m[\u001b[0m\u001b[0mx_min\u001b[0m\u001b[0;34m,\u001b[0m\u001b[0my_min\u001b[0m\u001b[0;34m]\u001b[0m\u001b[0;34m,\u001b[0m\u001b[0;34m[\u001b[0m\u001b[0mx_max\u001b[0m\u001b[0;34m,\u001b[0m\u001b[0my_min\u001b[0m\u001b[0;34m]\u001b[0m\u001b[0;34m,\u001b[0m\u001b[0;34m[\u001b[0m\u001b[0mx_max\u001b[0m\u001b[0;34m,\u001b[0m\u001b[0my_max\u001b[0m\u001b[0;34m]\u001b[0m\u001b[0;34m,\u001b[0m\u001b[0;34m[\u001b[0m\u001b[0mx_min\u001b[0m\u001b[0;34m,\u001b[0m\u001b[0my_max\u001b[0m\u001b[0;34m]\u001b[0m\u001b[0;34m]\u001b[0m \u001b[0;34m,\u001b[0m\u001b[0mcrop_img\u001b[0m\u001b[0;34m)\u001b[0m \u001b[0;34m)\u001b[0m\u001b[0;34m\u001b[0m\u001b[0;34m\u001b[0m\u001b[0m\n\u001b[1;32m    615\u001b[0m             \u001b[0mmax_ratio_hori\u001b[0m \u001b[0;34m=\u001b[0m \u001b[0mmax\u001b[0m\u001b[0;34m(\u001b[0m\u001b[0mratio\u001b[0m\u001b[0;34m,\u001b[0m \u001b[0mmax_ratio_hori\u001b[0m\u001b[0;34m)\u001b[0m\u001b[0;34m\u001b[0m\u001b[0;34m\u001b[0m\u001b[0m\n",
            "\u001b[0;32m/usr/local/lib/python3.10/dist-packages/easyocr/utils.py\u001b[0m in \u001b[0;36mcompute_ratio_and_resize\u001b[0;34m(img, width, height, model_height)\u001b[0m\n\u001b[1;32m    572\u001b[0m     \u001b[0;32mif\u001b[0m \u001b[0mratio\u001b[0m\u001b[0;34m<\u001b[0m\u001b[0;36m1.0\u001b[0m\u001b[0;34m:\u001b[0m\u001b[0;34m\u001b[0m\u001b[0;34m\u001b[0m\u001b[0m\n\u001b[1;32m    573\u001b[0m         \u001b[0mratio\u001b[0m \u001b[0;34m=\u001b[0m \u001b[0mcalculate_ratio\u001b[0m\u001b[0;34m(\u001b[0m\u001b[0mwidth\u001b[0m\u001b[0;34m,\u001b[0m\u001b[0mheight\u001b[0m\u001b[0;34m)\u001b[0m\u001b[0;34m\u001b[0m\u001b[0;34m\u001b[0m\u001b[0m\n\u001b[0;32m--> 574\u001b[0;31m         \u001b[0mimg\u001b[0m \u001b[0;34m=\u001b[0m \u001b[0mcv2\u001b[0m\u001b[0;34m.\u001b[0m\u001b[0mresize\u001b[0m\u001b[0;34m(\u001b[0m\u001b[0mimg\u001b[0m\u001b[0;34m,\u001b[0m\u001b[0;34m(\u001b[0m\u001b[0mmodel_height\u001b[0m\u001b[0;34m,\u001b[0m\u001b[0mint\u001b[0m\u001b[0;34m(\u001b[0m\u001b[0mmodel_height\u001b[0m\u001b[0;34m*\u001b[0m\u001b[0mratio\u001b[0m\u001b[0;34m)\u001b[0m\u001b[0;34m)\u001b[0m\u001b[0;34m,\u001b[0m \u001b[0minterpolation\u001b[0m\u001b[0;34m=\u001b[0m\u001b[0mImage\u001b[0m\u001b[0;34m.\u001b[0m\u001b[0mResampling\u001b[0m\u001b[0;34m.\u001b[0m\u001b[0mLANCZOS\u001b[0m\u001b[0;34m)\u001b[0m\u001b[0;34m\u001b[0m\u001b[0;34m\u001b[0m\u001b[0m\n\u001b[0m\u001b[1;32m    575\u001b[0m     \u001b[0;32melse\u001b[0m\u001b[0;34m:\u001b[0m\u001b[0;34m\u001b[0m\u001b[0;34m\u001b[0m\u001b[0m\n\u001b[1;32m    576\u001b[0m         \u001b[0mimg\u001b[0m \u001b[0;34m=\u001b[0m \u001b[0mcv2\u001b[0m\u001b[0;34m.\u001b[0m\u001b[0mresize\u001b[0m\u001b[0;34m(\u001b[0m\u001b[0mimg\u001b[0m\u001b[0;34m,\u001b[0m\u001b[0;34m(\u001b[0m\u001b[0mint\u001b[0m\u001b[0;34m(\u001b[0m\u001b[0mmodel_height\u001b[0m\u001b[0;34m*\u001b[0m\u001b[0mratio\u001b[0m\u001b[0;34m)\u001b[0m\u001b[0;34m,\u001b[0m\u001b[0mmodel_height\u001b[0m\u001b[0;34m)\u001b[0m\u001b[0;34m,\u001b[0m\u001b[0minterpolation\u001b[0m\u001b[0;34m=\u001b[0m\u001b[0mImage\u001b[0m\u001b[0;34m.\u001b[0m\u001b[0mResampling\u001b[0m\u001b[0;34m.\u001b[0m\u001b[0mLANCZOS\u001b[0m\u001b[0;34m)\u001b[0m\u001b[0;34m\u001b[0m\u001b[0;34m\u001b[0m\u001b[0m\n",
            "\u001b[0;31merror\u001b[0m: OpenCV(4.8.0) /io/opencv/modules/imgproc/src/resize.cpp:4062: error: (-215:Assertion failed) !ssize.empty() in function 'resize'\n"
          ]
        }
      ]
    },
    {
      "cell_type": "code",
      "source": [
        "a = Check_separator('/content/LkAAAgKYYOA-1920.jpg')"
      ],
      "metadata": {
        "id": "QoYNckSpOQSM"
      },
      "execution_count": null,
      "outputs": []
    },
    {
      "cell_type": "code",
      "source": [
        "print(cv2.getBuildInformation())"
      ],
      "metadata": {
        "colab": {
          "base_uri": "https://localhost:8080/"
        },
        "id": "ys8faJdB_qMF",
        "outputId": "adbe7756-8f82-4e88-b68c-dfc4a15375f7"
      },
      "execution_count": null,
      "outputs": [
        {
          "output_type": "stream",
          "name": "stdout",
          "text": [
            "\n",
            "General configuration for OpenCV 4.8.0 =====================================\n",
            "  Version control:               4.8.0-dirty\n",
            "\n",
            "  Extra modules:\n",
            "    Location (extra):            /io/opencv_contrib/modules\n",
            "    Version control (extra):     4.8.0\n",
            "\n",
            "  Platform:\n",
            "    Timestamp:                   2023-08-09T11:58:06Z\n",
            "    Host:                        Linux 5.15.0-1042-azure x86_64\n",
            "    CMake:                       3.27.1\n",
            "    CMake generator:             Unix Makefiles\n",
            "    CMake build tool:            /bin/gmake\n",
            "    Configuration:               Release\n",
            "\n",
            "  CPU/HW features:\n",
            "    Baseline:                    SSE SSE2 SSE3\n",
            "      requested:                 SSE3\n",
            "    Dispatched code generation:  SSE4_1 SSE4_2 FP16 AVX AVX2 AVX512_SKX\n",
            "      requested:                 SSE4_1 SSE4_2 AVX FP16 AVX2 AVX512_SKX\n",
            "      SSE4_1 (16 files):         + SSSE3 SSE4_1\n",
            "      SSE4_2 (1 files):          + SSSE3 SSE4_1 POPCNT SSE4_2\n",
            "      FP16 (0 files):            + SSSE3 SSE4_1 POPCNT SSE4_2 FP16 AVX\n",
            "      AVX (7 files):             + SSSE3 SSE4_1 POPCNT SSE4_2 AVX\n",
            "      AVX2 (35 files):           + SSSE3 SSE4_1 POPCNT SSE4_2 FP16 FMA3 AVX AVX2\n",
            "      AVX512_SKX (5 files):      + SSSE3 SSE4_1 POPCNT SSE4_2 FP16 FMA3 AVX AVX2 AVX_512F AVX512_COMMON AVX512_SKX\n",
            "\n",
            "  C/C++:\n",
            "    Built as dynamic libs?:      NO\n",
            "    C++ standard:                11\n",
            "    C++ Compiler:                /opt/rh/devtoolset-10/root/usr/bin/c++  (ver 10.2.1)\n",
            "    C++ flags (Release):         -Wl,-strip-all   -fsigned-char -W -Wall -Wreturn-type -Wnon-virtual-dtor -Waddress -Wsequence-point -Wformat -Wformat-security -Wmissing-declarations -Wundef -Winit-self -Wpointer-arith -Wshadow -Wsign-promo -Wuninitialized -Wsuggest-override -Wno-delete-non-virtual-dtor -Wno-comment -Wimplicit-fallthrough=3 -Wno-strict-overflow -fdiagnostics-show-option -Wno-long-long -pthread -fomit-frame-pointer -ffunction-sections -fdata-sections  -msse -msse2 -msse3 -fvisibility=hidden -fvisibility-inlines-hidden -O3 -DNDEBUG  -DNDEBUG\n",
            "    C++ flags (Debug):           -Wl,-strip-all   -fsigned-char -W -Wall -Wreturn-type -Wnon-virtual-dtor -Waddress -Wsequence-point -Wformat -Wformat-security -Wmissing-declarations -Wundef -Winit-self -Wpointer-arith -Wshadow -Wsign-promo -Wuninitialized -Wsuggest-override -Wno-delete-non-virtual-dtor -Wno-comment -Wimplicit-fallthrough=3 -Wno-strict-overflow -fdiagnostics-show-option -Wno-long-long -pthread -fomit-frame-pointer -ffunction-sections -fdata-sections  -msse -msse2 -msse3 -fvisibility=hidden -fvisibility-inlines-hidden -g  -O0 -DDEBUG -D_DEBUG\n",
            "    C Compiler:                  /opt/rh/devtoolset-10/root/usr/bin/cc\n",
            "    C flags (Release):           -Wl,-strip-all   -fsigned-char -W -Wall -Wreturn-type -Waddress -Wsequence-point -Wformat -Wformat-security -Wmissing-declarations -Wmissing-prototypes -Wstrict-prototypes -Wundef -Winit-self -Wpointer-arith -Wshadow -Wuninitialized -Wno-comment -Wimplicit-fallthrough=3 -Wno-strict-overflow -fdiagnostics-show-option -Wno-long-long -pthread -fomit-frame-pointer -ffunction-sections -fdata-sections  -msse -msse2 -msse3 -fvisibility=hidden -O3 -DNDEBUG  -DNDEBUG\n",
            "    C flags (Debug):             -Wl,-strip-all   -fsigned-char -W -Wall -Wreturn-type -Waddress -Wsequence-point -Wformat -Wformat-security -Wmissing-declarations -Wmissing-prototypes -Wstrict-prototypes -Wundef -Winit-self -Wpointer-arith -Wshadow -Wuninitialized -Wno-comment -Wimplicit-fallthrough=3 -Wno-strict-overflow -fdiagnostics-show-option -Wno-long-long -pthread -fomit-frame-pointer -ffunction-sections -fdata-sections  -msse -msse2 -msse3 -fvisibility=hidden -g  -O0 -DDEBUG -D_DEBUG\n",
            "    Linker flags (Release):      -Wl,--exclude-libs,libippicv.a -Wl,--exclude-libs,libippiw.a -L/ffmpeg_build/lib  -Wl,--gc-sections -Wl,--as-needed -Wl,--no-undefined  \n",
            "    Linker flags (Debug):        -Wl,--exclude-libs,libippicv.a -Wl,--exclude-libs,libippiw.a -L/ffmpeg_build/lib  -Wl,--gc-sections -Wl,--as-needed -Wl,--no-undefined  \n",
            "    ccache:                      YES\n",
            "    Precompiled headers:         NO\n",
            "    Extra dependencies:          /lib64/libopenblas.so Qt5::Test Qt5::Concurrent /usr/local/lib/libpng.so /lib64/libz.so Qt5::Core Qt5::Gui Qt5::Widgets Iconv::Iconv dl m pthread rt\n",
            "    3rdparty dependencies:       libprotobuf ade ittnotify libjpeg-turbo libwebp libtiff libopenjp2 IlmImf quirc ippiw ippicv\n",
            "\n",
            "  OpenCV modules:\n",
            "    To be built:                 aruco bgsegm bioinspired calib3d ccalib core cvv datasets dnn dnn_objdetect dnn_superres dpm face features2d flann fuzzy gapi hfs highgui img_hash imgcodecs imgproc intensity_transform line_descriptor mcc ml objdetect optflow phase_unwrapping photo plot python3 quality rapid reg rgbd saliency shape stereo stitching structured_light superres surface_matching text tracking video videoio videostab wechat_qrcode xfeatures2d ximgproc xobjdetect xphoto\n",
            "    Disabled:                    world\n",
            "    Disabled by dependency:      -\n",
            "    Unavailable:                 alphamat cudaarithm cudabgsegm cudacodec cudafeatures2d cudafilters cudaimgproc cudalegacy cudaobjdetect cudaoptflow cudastereo cudawarping cudev freetype hdf java julia matlab ovis python2 sfm ts viz\n",
            "    Applications:                -\n",
            "    Documentation:               NO\n",
            "    Non-free algorithms:         NO\n",
            "\n",
            "  GUI:                           QT5\n",
            "    QT:                          YES (ver 5.15.0 )\n",
            "      QT OpenGL support:         NO\n",
            "    GTK+:                        NO\n",
            "    VTK support:                 NO\n",
            "\n",
            "  Media I/O: \n",
            "    ZLib:                        /lib64/libz.so (ver 1.2.7)\n",
            "    JPEG:                        libjpeg-turbo (ver 2.1.3-62)\n",
            "    WEBP:                        build (ver encoder: 0x020f)\n",
            "    PNG:                         /usr/local/lib/libpng.so (ver 1.6.40)\n",
            "    TIFF:                        build (ver 42 - 4.2.0)\n",
            "    JPEG 2000:                   build (ver 2.5.0)\n",
            "    OpenEXR:                     build (ver 2.3.0)\n",
            "    HDR:                         YES\n",
            "    SUNRASTER:                   YES\n",
            "    PXM:                         YES\n",
            "    PFM:                         YES\n",
            "\n",
            "  Video I/O:\n",
            "    DC1394:                      NO\n",
            "    FFMPEG:                      YES\n",
            "      avcodec:                   YES (59.37.100)\n",
            "      avformat:                  YES (59.27.100)\n",
            "      avutil:                    YES (57.28.100)\n",
            "      swscale:                   YES (6.7.100)\n",
            "      avresample:                NO\n",
            "    GStreamer:                   NO\n",
            "    v4l/v4l2:                    YES (linux/videodev2.h)\n",
            "\n",
            "  Parallel framework:            pthreads\n",
            "\n",
            "  Trace:                         YES (with Intel ITT)\n",
            "\n",
            "  Other third-party libraries:\n",
            "    Intel IPP:                   2021.8 [2021.8.0]\n",
            "           at:                   /io/_skbuild/linux-x86_64-3.7/cmake-build/3rdparty/ippicv/ippicv_lnx/icv\n",
            "    Intel IPP IW:                sources (2021.8.0)\n",
            "              at:                /io/_skbuild/linux-x86_64-3.7/cmake-build/3rdparty/ippicv/ippicv_lnx/iw\n",
            "    VA:                          NO\n",
            "    Lapack:                      YES (/lib64/libopenblas.so)\n",
            "    Eigen:                       NO\n",
            "    Custom HAL:                  NO\n",
            "    Protobuf:                    build (3.19.1)\n",
            "    Flatbuffers:                 builtin/3rdparty (23.5.9)\n",
            "\n",
            "  OpenCL:                        YES (no extra features)\n",
            "    Include path:                /io/opencv/3rdparty/include/opencl/1.2\n",
            "    Link libraries:              Dynamic load\n",
            "\n",
            "  Python 3:\n",
            "    Interpreter:                 /opt/python/cp37-cp37m/bin/python3.7 (ver 3.7.17)\n",
            "    Libraries:                   libpython3.7m.a (ver 3.7.17)\n",
            "    numpy:                       /home/ci/.local/lib/python3.7/site-packages/numpy/core/include (ver 1.17.0)\n",
            "    install path:                python/cv2/python-3\n",
            "\n",
            "  Python (for build):            /opt/python/cp37-cp37m/bin/python3.7\n",
            "\n",
            "  Java:                          \n",
            "    ant:                         NO\n",
            "    Java:                        NO\n",
            "    JNI:                         NO\n",
            "    Java wrappers:               NO\n",
            "    Java tests:                  NO\n",
            "\n",
            "  Install to:                    /io/_skbuild/linux-x86_64-3.7/cmake-install\n",
            "-----------------------------------------------------------------\n",
            "\n",
            "\n"
          ]
        }
      ]
    },
    {
      "cell_type": "code",
      "source": [
        "Check_separator('/content/951efe5s-1920.jpg')"
      ],
      "metadata": {
        "colab": {
          "base_uri": "https://localhost:8080/"
        },
        "id": "h44pzol11fMd",
        "outputId": "b5b94389-e5c9-481d-c180-ed38b397fed7"
      },
      "execution_count": null,
      "outputs": [
        {
          "output_type": "execute_result",
          "data": {
            "text/plain": [
              "([<PIL.Image.Image image mode=RGB size=352x1080>,\n",
              "  <PIL.Image.Image image mode=RGB size=270x1080>,\n",
              "  <PIL.Image.Image image mode=RGB size=82x1080>,\n",
              "  <PIL.Image.Image image mode=RGB size=346x1080>,\n",
              "  <PIL.Image.Image image mode=RGB size=494x1080>,\n",
              "  <PIL.Image.Image image mode=RGB size=353x1080>],\n",
              " [0.5, 24.0, 42.0, 47.5, 70.5, 103.5, 127.0])"
            ]
          },
          "metadata": {},
          "execution_count": 46
        }
      ]
    },
    {
      "cell_type": "code",
      "source": [
        "Check_separator('/content/Screenshot_1.jpg')"
      ],
      "metadata": {
        "colab": {
          "base_uri": "https://localhost:8080/",
          "height": 145
        },
        "id": "5iUiS-pq1not",
        "outputId": "afeead17-ee1a-45fc-d7f2-4e0f50166443"
      },
      "execution_count": null,
      "outputs": [
        {
          "output_type": "error",
          "ename": "SyntaxError",
          "evalue": "ignored",
          "traceback": [
            "\u001b[0;36m  File \u001b[0;32m\"<ipython-input-47-023dc559cab4>\"\u001b[0;36m, line \u001b[0;32m1\u001b[0m\n\u001b[0;31m    Check_separator('/content/Screenshot_1.jpg'))\u001b[0m\n\u001b[0m                                                ^\u001b[0m\n\u001b[0;31mSyntaxError\u001b[0m\u001b[0;31m:\u001b[0m unmatched ')'\n"
          ]
        }
      ]
    }
  ]
}